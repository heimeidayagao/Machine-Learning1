{
 "cells": [
  {
   "cell_type": "markdown",
   "metadata": {},
   "source": [
    "# Shiny new calculator\n",
    "\n",
    "Below is a series of exercises concerned with calculating various quantities — a chance to see how Python can be used as a really powerful calculator.\n"
   ]
  },
  {
   "cell_type": "markdown",
   "metadata": {},
   "source": [
    "## Q1. Unit conversion\n",
    "\n",
    "You have been provided with the heights of a number of rockets, but, on account of it being an American source, they are all in feet. As nobody knows what a foot is you'll need to convert them into meters.\n",
    "\n",
    "The conversion is that $1$ foot is equal to $0.3048$ meters.\n",
    "\n",
    "You may not have seen the `.format()` method yet. In this case it replaces `{}` with the name of the rocket and `{:.02f}` with the height. `.02f` tells it how to format the number, in this case as a float (`f`) with two decimal places (`2`) that are always shown (`0`).\n",
    "\n",
    "__(1 mark)__\n",
    " * You will need to edit the line `height_meters = 0`. The `0` is included so the code will run before you edit it, so if it stops working you'll know it's your own fault!\n",
    " * Remember that Python is sensitive to indentation."
   ]
  },
  {
   "cell_type": "code",
   "execution_count": 23,
   "metadata": {},
   "outputs": [
    {
     "name": "stdout",
     "output_type": "stream",
     "text": [
      "Space Shuttle (at launch): height = 56.08 meters\n",
      "Falcon Heavy: height = 70.10 meters\n",
      "Delta IV Heavy: height = 71.63 meters\n",
      "Ares 1: height = 99.67 meters\n",
      "Saturn V: height = 110.64 meters\n"
     ]
    }
   ],
   "source": [
    "names = ['Space Shuttle (at launch)',\n",
    "         'Falcon Heavy',\n",
    "         'Delta IV Heavy',\n",
    "         'Ares 1',\n",
    "         'Saturn V']\n",
    "heights_feet = [184, 230, 235, 327, 363]\n",
    "\n",
    "for name, height_feet in zip(names, heights_feet):\n",
    "    # 1 mark ****************************************************************\n",
    "    height_meters = height_feet * 0.3048\n",
    "    \n",
    "    print('{}: height = {:.02f} meters'.format(name, height_meters))\n"
   ]
  },
  {
   "cell_type": "markdown",
   "metadata": {},
   "source": [
    "## Q2. Trigonometry\n",
    "\n",
    "You're now working out the heights of various landmarks in London. Your assistant is a small child who, unaware of the internet, has insisted on standing some *distance* away from each building and then measuring the *angle* between the top of the building and the ground. That they haven't been trod on while doing this is a small miracle. You now need to use these measurements to calculate the height of each landmark. Your answers may not be exactly the same as reality, due to the childs errors; you should not correct them (Yes, this is so you can't cheat:-P).\n",
    "\n",
    "Hints:\n",
    "* In case you have forgotten your trigonometry, the equation is $$\\texttt{height} = \\texttt{distance} \\times \\tan(\\texttt{angle})$$\n",
    "* The small child has provided the angles in *degrees*, but computers use *radians*. The conversion from degrees to radians is $$\\texttt{radians} = \\frac{\\texttt{degrees} \\times \\pi}{180}$$\n",
    "* `import numpy` brings in a *library*, which provides you with extra functions. You're going to need two of it's functions: `numpy.tan()` which does what you would guess, and `numpy.pi` for converting from degree to radians.\n",
    "\n",
    "__(1 mark)__"
   ]
  },
  {
   "cell_type": "code",
   "execution_count": 24,
   "metadata": {},
   "outputs": [
    {
     "name": "stdout",
     "output_type": "stream",
     "text": [
      "The Shard: height = 308 meters\n",
      "One Canada Square: height = 225 meters\n",
      "Crystal Palace Transmitter: height = 219 meters\n",
      "BT Tower: height = 177 meters\n",
      "London Eye: height = 136 meters\n",
      "Battersea Power Station: height = 113 meters\n"
     ]
    }
   ],
   "source": [
    "import numpy\n",
    "\n",
    "names = ['The Shard',\n",
    "         'One Canada Square',\n",
    "         'Crystal Palace Transmitter',\n",
    "         'BT Tower',\n",
    "         'London Eye',\n",
    "         'Battersea Power Station']\n",
    "distances = [383, 34, 82, 120, 54, 101]\n",
    "angles = [38.8, 81.4, 69.5, 55.9, 68.4, 48.2] # In degrees\n",
    "\n",
    "for name, distance, angle in zip(names, distances, angles):\n",
    "    # 1 mark ****************************************************************\n",
    "    height = distance * numpy.tan(angle * numpy.pi / 180)\n",
    "    \n",
    "    print('{}: height = {:.0f} meters'.format(name, height))\n"
   ]
  },
  {
   "cell_type": "markdown",
   "metadata": {},
   "source": [
    "## Q3. Evil numbers\n",
    "\n",
    "For reasons known only to mathematicians, an *evil number* is defined as being a natural number that has an even number of `1`s in its binary representation. Its opposite, a natural number with an odd number of `1`s, is called an *odious number*. Why remains a mystery to me.\n",
    "\n",
    "Your task is to print out every evil number between 1 and 90, **inclusive**.\n",
    "\n",
    "Things you might want to know:\n",
    "* Python has a built in function `bin(<integer>)` that converts an integer to its binary  representation, a sequence of `0`s and `1`s. It will prefix the number with `0b` to indicate it is binary, but that doesn't matter here.\n",
    "* You can count how many times a character appears in a string by calling it's count method, e.g. `'halloumi and chips'.count('i')` will evaluate as `2`.\n",
    "* The modulus operator in Python is `%`, e.g. `7%3` will evaluate as `1`. This can be used to test for a number being even.\n",
    "* You're going to need a loop, for instance `for value in range(2, 10):` will loop from `2` to `9`.\n",
    "\n",
    "__(2 marks)__"
   ]
  },
  {
   "cell_type": "code",
   "execution_count": 26,
   "metadata": {},
   "outputs": [
    {
     "name": "stdout",
     "output_type": "stream",
     "text": [
      "0\n",
      "3\n",
      "5\n",
      "6\n",
      "9\n",
      "10\n",
      "12\n",
      "15\n",
      "17\n",
      "18\n",
      "20\n",
      "23\n",
      "24\n",
      "27\n",
      "29\n",
      "30\n",
      "33\n",
      "34\n",
      "36\n",
      "39\n",
      "40\n",
      "43\n",
      "45\n",
      "46\n",
      "48\n",
      "51\n",
      "53\n",
      "54\n",
      "57\n",
      "58\n",
      "60\n",
      "63\n",
      "65\n",
      "66\n",
      "68\n",
      "71\n",
      "72\n",
      "75\n",
      "77\n",
      "78\n",
      "80\n",
      "83\n",
      "85\n",
      "86\n",
      "89\n",
      "90\n"
     ]
    }
   ],
   "source": [
    "\n",
    "# 2 marks ****************************************************************\n",
    "for value in range(91):\n",
    "    if bin(value)[2:].count('1') % 2 == 0:\n",
    "        print(value)\n"
   ]
  },
  {
   "cell_type": "markdown",
   "metadata": {},
   "source": [
    "## Q4. Mean and variance\n",
    "\n",
    "Something far more practical. Your task is to write code to calculate the mean and variance of a set of numbers.\n",
    "\n",
    "$$\\texttt{mean} = \\mu = \\frac{1}{n}\\sum_{i=1}^n x_i$$\n",
    "\n",
    "$$\\texttt{variance} = \\sigma^2 = \\frac{1}{n}\\sum_{i=1}^n (x_i - \\mu)^2$$\n",
    "\n",
    "Hints:\n",
    "* `for value in lst:` will work for a loop.\n",
    "* Easiest solution requires two loops, though there is a way of doing it in one if you're sneaky.\n",
    "* $n =$`len(lst)`\n",
    "* Powers are written as `**` in Python, so `4**3` is $4$ to the power of $3$.\n",
    "\n",
    "__(2 marks)__"
   ]
  },
  {
   "cell_type": "code",
   "execution_count": 33,
   "metadata": {},
   "outputs": [
    {
     "name": "stdout",
     "output_type": "stream",
     "text": [
      "mean = 4.0\n",
      "var  = 0.2\n"
     ]
    }
   ],
   "source": [
    "def calc_mv(lst):\n",
    "    \"\"\"Takes a list of numbers and returns mean, variance.\"\"\"\n",
    "    mean = 0\n",
    "    var = 0\n",
    "    \n",
    "    # 2 marks ****************************************************************\n",
    "    sum_value = 0\n",
    "    var_value = 0\n",
    "    sum_var_value = 0\n",
    "    for value in lst:\n",
    "        sum_value += value\n",
    "    mean = sum_value / 10\n",
    "    for value in lst:\n",
    "        var_value = (value - mean)** 2\n",
    "        sum_var_value += var_value\n",
    "    var = sum_var_value / 10\n",
    "    return mean, var\n",
    "\n",
    "\n",
    "\n",
    "# Test of above function...\n",
    "mean, var = calc_mv([4.5, 4.2, 3.8, 4.5, 4.6, 3.4, 4.3, 3.5, 3.7, 3.5])\n",
    "print('mean = {:.1f}'.format(mean))\n",
    "print('var  = {:.1f}'.format(var))\n"
   ]
  },
  {
   "cell_type": "markdown",
   "metadata": {},
   "source": [
    "## Q5. Riemann sum\n",
    "\n",
    "Finally, lets do some numerical integration. Here is the Anger function (no, really — it was introduced by C. T. Anger in 1855), \n",
    "\n",
    "$$J_v(z) = \\frac{1}{\\pi}\\int_0^\\pi \\cos(v\\theta - z\\sin\\theta)\\ d\\theta,$$\n",
    "\n",
    "and while there is an infinite series that converges to it, there is no known analytic solution. Your task is to integrate it anyway, using a [Riemann sum](https://en.wikipedia.org/wiki/Riemann_sum) with the midpoint rule. This approximates an integral of a function $f(x)$ with\n",
    "\n",
    "$$\\int_a^b f(x)\\ dx \\approx \\frac{b-a}{n} \\sum_{i=0}^{n-1} f\\left(a + (i + 0.5)\\frac{b-a}{n}\\right),$$\n",
    "\n",
    "where $n$ is a parameter to control how accurate the approximation is — higher is better. You will have to use `numpy` again; you should be able to guess what $\\cos$ and $\\sin$ are! Remember to break it down — don't try to do it all with a single line of code.\n",
    "\n",
    "__(4 marks)__"
   ]
  },
  {
   "cell_type": "code",
   "execution_count": 22,
   "metadata": {},
   "outputs": [
    {
     "name": "stdout",
     "output_type": "stream",
     "text": [
      "J_0(0) = 1.0000\n",
      "J_0(4) = -0.3971\n",
      "J_0.5(3.2) = 0.0561\n",
      "J_2(3) = 0.4861\n"
     ]
    }
   ],
   "source": [
    "def anger(v, z, n = 128):\n",
    "    \"\"\"Calculates the anger function, J_v(z) with the given parameters.\n",
    "    n is the number of samples to use in a midpoint Riemann sum\"\"\"\n",
    "    ret = 0.0\n",
    "    \n",
    "    # 4 marks ****************************************************************\n",
    "    w = 1 / numpy.pi\n",
    "    q = (numpy.pi - 0) /n\n",
    "    s = 0\n",
    "    for i in range(0,n):\n",
    "        p = (0 + i + 0.5) * q\n",
    "        s += numpy.cos(( v * p ) - z * numpy.sin( p ))\n",
    "    ret = w * q * s\n",
    "    return ret\n",
    "\n",
    "# Code to test above...\n",
    "print('J_0(0) = {:.4f}'.format(anger(0, 0))) # Should be 1\n",
    "print('J_0(4) = {:.4f}'.format(anger(0, 4))) # Almost -0.4\n",
    "print('J_0.5(3.2) = {:.4f}'.format(anger(0.5, 3.2))) # Close to 0\n",
    "print('J_2(3) = {:.4f}'.format(anger(2, 3))) # Just under 0.5"
   ]
  }
 ],
 "metadata": {
  "kernelspec": {
   "display_name": "Python 3",
   "language": "python",
   "name": "python3"
  },
  "language_info": {
   "codemirror_mode": {
    "name": "ipython",
    "version": 3
   },
   "file_extension": ".py",
   "mimetype": "text/x-python",
   "name": "python",
   "nbconvert_exporter": "python",
   "pygments_lexer": "ipython3",
   "version": "3.7.3"
  }
 },
 "nbformat": 4,
 "nbformat_minor": 2
}
