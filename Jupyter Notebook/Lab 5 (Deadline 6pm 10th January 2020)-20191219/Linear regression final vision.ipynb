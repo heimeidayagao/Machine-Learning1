{
 "cells": [
  {
   "cell_type": "code",
   "execution_count": 17,
   "metadata": {},
   "outputs": [],
   "source": [
    "import numpy as np\n",
    "np.set_printoptions(suppress=True)\n",
    "\n",
    "#import row data\n",
    "row_data = np.loadtxt('sarcos_inv.csv',delimiter = ',')\n",
    "np.random.seed(1)\n",
    "np.random.shuffle(row_data)\n",
    "X = row_data[:,:21]\n",
    "Y = row_data[:,21:]\n",
    "\n",
    "# normalize_x\n",
    "X = (X - np.mean(X)) / np.std(X)\n",
    "\n",
    "#split data\n",
    "split_size = [0.6,0.2,0.2]\n",
    "index_train = int(X.shape[0] * split_size[0])\n",
    "index_cv = index_train + int(X.shape[0] * split_size[1])\n",
    "index_test = index_cv + int(X.shape[0] * split_size[2])\n",
    "X_train = X[:index_train, :]\n",
    "Y_train = Y[:index_train, :]\n",
    "X_test = X[index_cv:index_test, :]\n",
    "Y_test = Y[index_cv:index_test, :]"
   ]
  },
  {
   "cell_type": "code",
   "execution_count": 14,
   "metadata": {},
   "outputs": [],
   "source": [
    "n = X_train.shape[1]\n",
    "w = np.random.normal(0, 0.5, size=(n, 1))\n",
    "b = np.random.normal(0, 0.5)\n",
    "\n",
    "iters = 10000\n",
    "learning_rate = 0.1\n",
    "\n",
    "costed = 100000000000000000000\n",
    "new_learning_rate = learning_rate\n",
    "\n",
    "for i in range(iters):\n",
    "    prediction = np.dot(X_train, w) + b\n",
    "    cost = np.sum((prediction - Y_train)**2) / (2 * Y_train.shape[0])\n",
    "    m = prediction.shape[0]\n",
    "    grad_w = np.dot(X_train.T, (prediction - Y_train)) / m\n",
    "    grad_b = np.sum((prediction - Y_train)) / m\n",
    "    w = w - learning_rate * grad_w\n",
    "    b = b - learning_rate * grad_b      \n",
    "    if cost >= costed:\n",
    "        c_learning_rate = c_learning_rate * 0.5\n",
    "        continue\n",
    "        \n",
    "    costed = cost\n",
    "\n",
    "prediction = np.dot(X_test, w) + b\n",
    "rmse = np.sqrt(np.mean(np.square(prediction - Y_test)))    "
   ]
  },
  {
   "cell_type": "code",
   "execution_count": 15,
   "metadata": {},
   "outputs": [
    {
     "name": "stdout",
     "output_type": "stream",
     "text": [
      "Linear regression :\n",
      "RMSE: 5.605214619103697.\n"
     ]
    }
   ],
   "source": [
    "print(\"Linear regression :\")\n",
    "print(\"RMSE: {}.\".format(rmse))"
   ]
  }
 ],
 "metadata": {
  "kernelspec": {
   "display_name": "Python 3",
   "language": "python",
   "name": "python3"
  },
  "language_info": {
   "codemirror_mode": {
    "name": "ipython",
    "version": 3
   },
   "file_extension": ".py",
   "mimetype": "text/x-python",
   "name": "python",
   "nbconvert_exporter": "python",
   "pygments_lexer": "ipython3",
   "version": "3.7.3"
  }
 },
 "nbformat": 4,
 "nbformat_minor": 2
}
