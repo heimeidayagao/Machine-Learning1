{
 "cells": [
  {
   "cell_type": "code",
   "execution_count": 1,
   "metadata": {},
   "outputs": [],
   "source": [
    "import os \n",
    "import numpy as np \n",
    "import pandas as pd \n",
    "import matplotlib.pyplot as plt \n",
    "%matplotlib inline"
   ]
  },
  {
   "cell_type": "code",
   "execution_count": 2,
   "metadata": {},
   "outputs": [],
   "source": [
    "data = pd.read_csv(\"sarcos_inv.csv\",header = None)"
   ]
  },
  {
   "cell_type": "code",
   "execution_count": 3,
   "metadata": {
    "scrolled": true
   },
   "outputs": [],
   "source": [
    "data= (data- data.mean())/ data.std()"
   ]
  },
  {
   "cell_type": "code",
   "execution_count": 4,
   "metadata": {},
   "outputs": [],
   "source": [
    "def computeCost(X, y, theta): \n",
    "    inner= np.power(((X* theta.T)- y),2)\n",
    "    return np.sum(inner)/ (2 * len(X))"
   ]
  },
  {
   "cell_type": "code",
   "execution_count": 5,
   "metadata": {},
   "outputs": [],
   "source": [
    "def gradientDescent(X, y, theta, alpha, iters): \n",
    "    \n",
    "    temp= np.matrix(np.zeros(theta.shape))\n",
    "    parameters= int(theta.ravel().shape[1])\n",
    "    cost= np.zeros(iters)\n",
    "    for i in range(iters):\n",
    "        error= (X* theta.T)- y\n",
    "        \n",
    "        for j in range(parameters):\n",
    "            term= np.multiply(error, X[:,j])\n",
    "            temp[0,j]= theta[0,j]- ((alpha/ len(X))* np.sum(term))\n",
    "            \n",
    "        theta= temp\n",
    "        cost[i]= computeCost(X, y, theta)\n",
    "    return theta, cost"
   ]
  },
  {
   "cell_type": "code",
   "execution_count": 6,
   "metadata": {},
   "outputs": [],
   "source": [
    "# add ones column\n",
    "# data.insert(0,'Ones',1)\n",
    "\n",
    "# set X (training data) and y (target variable)\n",
    "cols= data.shape[1] \n",
    "X= data.iloc[:,0:cols-1] \n",
    "y= data.iloc[:,cols-1:cols]\n",
    "\n",
    "# convert to matrices and initialize theta\n",
    "X= np.matrix(X.values) \n",
    "y= np.matrix(y.values) \n",
    "theta= np.matrix(np.array([0,0,0,0,0,0,0,0,0,0,0,0,0,0,0,0,0,0,0,0,0]))"
   ]
  },
  {
   "cell_type": "code",
   "execution_count": 7,
   "metadata": {
    "scrolled": true
   },
   "outputs": [
    {
     "data": {
      "text/plain": [
       "0.042267480444254164"
      ]
     },
     "execution_count": 7,
     "metadata": {},
     "output_type": "execute_result"
    }
   ],
   "source": [
    "alpha= 0.01 \n",
    "iters= 1000\n",
    "\n",
    "# perform linear regression on the data set\n",
    "g, cost= gradientDescent(X, y, theta, alpha, iters)\n",
    "\n",
    "# get the cost (error) of the model\n",
    "computeCost(X, y, g)"
   ]
  },
  {
   "cell_type": "code",
   "execution_count": 9,
   "metadata": {},
   "outputs": [
    {
     "data": {
      "text/plain": [
       "Text(0.5, 1.0, 'Error vs. Training Epoch')"
      ]
     },
     "execution_count": 9,
     "metadata": {},
     "output_type": "execute_result"
    },
    {
     "data": {
      "image/png": "[encoded data removed]",
      "text/plain": [
       "<Figure size 864x576 with 1 Axes>"
      ]
     },
     "metadata": {
      "needs_background": "light"
     },
     "output_type": "display_data"
    }
   ],
   "source": [
    "fig, ax= plt.subplots(figsize=(12,8)) \n",
    "ax.plot(np.arange(iters), cost,'r') \n",
    "ax.set_xlabel('Iterations') \n",
    "ax.set_ylabel('Cost') \n",
    "ax.set_title('Error vs. Training Epoch')"
   ]
  }
 ],
 "metadata": {
  "kernelspec": {
   "display_name": "Python 3",
   "language": "python",
   "name": "python3"
  },
  "language_info": {
   "codemirror_mode": {
    "name": "ipython",
    "version": 3
   },
   "file_extension": ".py",
   "mimetype": "text/x-python",
   "name": "python",
   "nbconvert_exporter": "python",
   "pygments_lexer": "ipython3",
   "version": "3.7.3"
  }
 },
 "nbformat": 4,
 "nbformat_minor": 2
}
