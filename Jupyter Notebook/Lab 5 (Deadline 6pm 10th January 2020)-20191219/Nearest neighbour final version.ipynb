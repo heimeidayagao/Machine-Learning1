{
 "cells": [
  {
   "cell_type": "code",
   "execution_count": 1,
   "metadata": {},
   "outputs": [],
   "source": [
    "import numpy as np\n",
    "np.set_printoptions(suppress=True)\n",
    "\n",
    "#import row data\n",
    "row_data = np.loadtxt('sarcos_inv.csv',delimiter = ',')\n",
    "np.random.seed(1)\n",
    "np.random.shuffle(row_data)\n",
    "X = row_data[:,:21]\n",
    "Y = row_data[:,21:]\n",
    "\n",
    "# normalize_x\n",
    "X = (X - np.mean(X)) / np.std(X)\n",
    "\n",
    "#split data\n",
    "split_size = [0.6,0.2,0.2]\n",
    "index_train = int(X.shape[0] * split_size[0])\n",
    "index_cv = index_train + int(X.shape[0] * split_size[1])\n",
    "index_test = index_cv + int(X.shape[0] * split_size[2])\n",
    "X_train = X[:index_train, :]\n",
    "Y_train = Y[:index_train, :]\n",
    "X_test = X[index_cv:index_test, :]\n",
    "Y_test = Y[index_cv:index_test, :]"
   ]
  },
  {
   "cell_type": "code",
   "execution_count": 2,
   "metadata": {},
   "outputs": [],
   "source": [
    "best_k = -100\n",
    "best_rmse = 10000000000000000000000\n",
    "for k in range(1,10):\n",
    "    size1 = Y_test.shape\n",
    "    X_predicted = np.zeros(size1)\n",
    "    size2 = X_predicted.shape[0]\n",
    "    for i in range(size2):\n",
    "        distance = np.linalg.norm(X_train - X_test[i], axis=1)\n",
    "        index = np.argpartition(distance, k)[:k]\n",
    "        weights = 1 / distance[index]**2\n",
    "        X_predicted[i][0] = np.sum(np.squeeze(Y_train[index]) \\\n",
    "                                   * np.squeeze(weights))/ np.sum(weights)\n",
    "    rmse = np.sqrt(np.mean(np.square(X_predicted - Y_test)))\n",
    "    if rmse < best_rmse:\n",
    "        best_rmse = rmse\n",
    "        best_k = k "
   ]
  },
  {
   "cell_type": "code",
   "execution_count": 5,
   "metadata": {},
   "outputs": [
    {
     "name": "stdout",
     "output_type": "stream",
     "text": [
      "Nearest neighbor:\n",
      "k:5\n",
      "RMSE: 5.027232981806817.\n"
     ]
    }
   ],
   "source": [
    "print(\"Nearest neighbor:\")\n",
    "print(\"k:{}\".format(best_k))\n",
    "print(\"RMSE: {}.\".format(rmse))"
   ]
  }
 ],
 "metadata": {
  "kernelspec": {
   "display_name": "Python 3",
   "language": "python",
   "name": "python3"
  },
  "language_info": {
   "codemirror_mode": {
    "name": "ipython",
    "version": 3
   },
   "file_extension": ".py",
   "mimetype": "text/x-python",
   "name": "python",
   "nbconvert_exporter": "python",
   "pygments_lexer": "ipython3",
   "version": "3.7.3"
  }
 },
 "nbformat": 4,
 "nbformat_minor": 2
}
