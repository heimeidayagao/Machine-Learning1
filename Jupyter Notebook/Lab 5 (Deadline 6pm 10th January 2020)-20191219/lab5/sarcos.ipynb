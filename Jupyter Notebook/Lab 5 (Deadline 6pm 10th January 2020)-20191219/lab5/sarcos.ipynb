{
 "cells": [
  {
   "cell_type": "markdown",
   "metadata": {},
   "source": [
    "# load the data"
   ]
  },
  {
   "cell_type": "code",
   "execution_count": 3,
   "metadata": {},
   "outputs": [],
   "source": [
    "import numpy as np\n",
    "np.set_printoptions(suppress=True)\n",
    "\n",
    "#import row data\n",
    "row_data = np.loadtxt('sarcos_inv.csv',delimiter = ',')\n",
    "np.random.seed(1)\n",
    "np.random.shuffle(row_data)\n",
    "X = row_data[:,:21]\n",
    "Y = row_data[:,21:]\n",
    "\n",
    "# normalize_x\n",
    "X = (X - np.mean(X)) / np.std(X)\n",
    "\n",
    "#split data\n",
    "split_size = [0.6,0.2,0.2]\n",
    "index_train = int(X.shape[0] * split_size[0])\n",
    "index_cv = index_train + int(X.shape[0] * split_size[1])\n",
    "index_test = index_cv + int(X.shape[0] * split_size[2])\n",
    "X_train = X[:index_train, :]\n",
    "Y_train = Y[:index_train, :]\n",
    "X_test = X[index_cv:index_test, :]\n",
    "Y_test = Y[index_cv:index_test, :]"
   ]
  },
  {
   "cell_type": "markdown",
   "metadata": {},
   "source": [
    "# Nearest neighbour"
   ]
  },
  {
   "cell_type": "code",
   "execution_count": 4,
   "metadata": {},
   "outputs": [],
   "source": [
    "best_k = -100\n",
    "best_rmse = 10000000000000000000000\n",
    "for k in range(1,10):\n",
    "    size1 = Y_test.shape\n",
    "    X_predicted = np.zeros(size1)\n",
    "    size2 = X_predicted.shape[0]\n",
    "    for i in range(size2):\n",
    "        distance = np.linalg.norm(X_train - X_test[i], axis=1)\n",
    "        index = np.argpartition(distance, k)[:k]\n",
    "        weights = 1 / distance[index]**2\n",
    "        X_predicted[i][0] = np.sum(np.squeeze(Y_train[index]) \\\n",
    "                                   * np.squeeze(weights))/ np.sum(weights)\n",
    "    rmse = np.sqrt(np.mean(np.square(X_predicted - Y_test)))\n",
    "    if rmse < best_rmse:\n",
    "        best_rmse = rmse\n",
    "        best_k = k "
   ]
  },
  {
   "cell_type": "code",
   "execution_count": 5,
   "metadata": {},
   "outputs": [
    {
     "name": "stdout",
     "output_type": "stream",
     "text": [
      "Nearest neighbor:\n",
      "k:5\n",
      "RMSE: 5.027232981806817.\n"
     ]
    }
   ],
   "source": [
    "print(\"Nearest neighbor:\")\n",
    "print(\"k:{}\".format(best_k))\n",
    "print(\"RMSE: {}.\".format(rmse))"
   ]
  },
  {
   "cell_type": "markdown",
   "metadata": {},
   "source": [
    "# Linear regression"
   ]
  },
  {
   "cell_type": "code",
   "execution_count": 6,
   "metadata": {},
   "outputs": [],
   "source": [
    "n = X_train.shape[1]\n",
    "w = np.random.normal(0, 0.5, size=(n, 1))\n",
    "b = np.random.normal(0, 0.5)\n",
    "\n",
    "iters = 10000\n",
    "learning_rate = 0.1\n",
    "\n",
    "costed = 100000000000000000000\n",
    "new_learning_rate = learning_rate\n",
    "\n",
    "for i in range(iters):\n",
    "    prediction = np.dot(X_train, w) + b\n",
    "    cost = np.sum((prediction - Y_train)**2) / (2 * Y_train.shape[0])\n",
    "    m = prediction.shape[0]\n",
    "    grad_w = np.dot(X_train.T, (prediction - Y_train)) / m\n",
    "    grad_b = np.sum((prediction - Y_train)) / m\n",
    "    w = w - learning_rate * grad_w\n",
    "    b = b - learning_rate * grad_b      \n",
    "    if cost >= costed:\n",
    "        c_learning_rate = c_learning_rate * 0.5\n",
    "        continue\n",
    "        \n",
    "    costed = cost\n",
    "\n",
    "prediction = np.dot(X_test, w) + b\n",
    "rmse = np.sqrt(np.mean(np.square(prediction - Y_test)))    "
   ]
  },
  {
   "cell_type": "code",
   "execution_count": 7,
   "metadata": {},
   "outputs": [
    {
     "name": "stdout",
     "output_type": "stream",
     "text": [
      "Linear regression :\n",
      "RMSE: 5.605214619103697.\n"
     ]
    }
   ],
   "source": [
    "print(\"Linear regression :\")\n",
    "print(\"RMSE: {}.\".format(rmse))"
   ]
  },
  {
   "cell_type": "markdown",
   "metadata": {},
   "source": [
    "# Regression forest"
   ]
  },
  {
   "cell_type": "code",
   "execution_count": null,
   "metadata": {},
   "outputs": [],
   "source": []
  },
  {
   "cell_type": "markdown",
   "metadata": {},
   "source": [
    "# Gaussian process"
   ]
  },
  {
   "cell_type": "code",
   "execution_count": 20,
   "metadata": {},
   "outputs": [],
   "source": [
    "class get_raw_data:\n",
    "\n",
    "    def __init__(self, path):\n",
    "        data = np.loadtxt(path, delimiter=',')\n",
    "        np.random.seed(1)\n",
    "        np.random.shuffle(data)\n",
    "        self.X = data[:, :21]\n",
    "        self.Y = data[:, 21:]\n",
    "\n",
    "    def split_data(self, split, action=False):\n",
    "\n",
    "        X = self.X\n",
    "        if action:\n",
    "            X = get_raw_data.norm_data(self.X)\n",
    "        index_train = int(self.X.shape[0] * split[0])\n",
    "        X_train = X[:index_train, :]\n",
    "        Y_train = self.Y[:index_train, :]\n",
    "        index_cv = index_train + int(self.X.shape[0] * split[1])\n",
    "        index_test = index_cv + int(np.round(self.X.shape[0] * split[2]))\n",
    "        X_test = X[index_cv:index_test, :]\n",
    "        Y_test = self.Y[index_cv:index_test, :]\n",
    "        return X_train, Y_train, X_test, Y_test\n",
    "\n",
    "    def norm_data(X):\n",
    "        X = (X - np.mean(X, axis=0)) / np.std(X)\n",
    "        return X"
   ]
  },
  {
   "cell_type": "code",
   "execution_count": 21,
   "metadata": {},
   "outputs": [],
   "source": [
    "class GaussianProcess:\n",
    "\n",
    "    def __init__(self, X_train, Y_train):\n",
    "\n",
    "        self.X_train = X_train\n",
    "        self.Y_train = Y_train\n",
    "        \n",
    "    def test(self, X_test, Y_test, length_scale):\n",
    "\n",
    "        distance = np.sum(self.X_train**2, axis=1, keepdims=True) + np.sum(self.X_train**2, axis=1) - 2 * np.dot(self.X_train, self.X_train.T)\n",
    "        K = np.exp(-(1 / (2 * length_scale**2)) * distance)\n",
    "        L = np.linalg.cholesky(K)\n",
    "        distance = np.sum(X_test**2, axis=1, keepdims=True) + np.sum(self.X_train**2, axis=1) - 2 * np.dot(X_test, self.X_train.T)\n",
    "        K_star_ = np.exp(-(1 / (2 * length_scale**2)) * distance)\n",
    "        v = np.linalg.solve(L, self.Y_train)\n",
    "        w = np.linalg.solve(L.T, v)\n",
    "        mu = np.dot(K_star_, w)\n",
    "        rmse = np.sqrt(np.mean(np.square(mu - Y_test))) \n",
    "\n",
    "        return rmse"
   ]
  }
 ],
 "metadata": {
  "kernelspec": {
   "display_name": "Python 3",
   "language": "python",
   "name": "python3"
  },
  "language_info": {
   "codemirror_mode": {
    "name": "ipython",
    "version": 3
   },
   "file_extension": ".py",
   "mimetype": "text/x-python",
   "name": "python",
   "nbconvert_exporter": "python",
   "pygments_lexer": "ipython3",
   "version": "3.7.3"
  }
 },
 "nbformat": 4,
 "nbformat_minor": 2
}
