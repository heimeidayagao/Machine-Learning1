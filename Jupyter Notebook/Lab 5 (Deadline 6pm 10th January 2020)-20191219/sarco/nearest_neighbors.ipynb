{
 "cells": [
  {
   "cell_type": "code",
   "execution_count": 1,
   "metadata": {},
   "outputs": [],
   "source": [
    "import numpy as np\n",
    "\n",
    "\n",
    "class NearestNeighbors:\n",
    "\n",
    "    def __init__(self, X_train, Y_train):\n",
    "        \"\"\"\n",
    "        :param X_train: training set\n",
    "        :param Y_train: outputs of the training set\n",
    "        \"\"\"\n",
    "        self.X_train = X_train\n",
    "        self.Y_train = Y_train\n",
    "\n",
    "    def predict(self, x, k):\n",
    "        \"\"\"\n",
    "        Predicts the output value of the provided example.\n",
    "        :param x: Example input vector\n",
    "        :param k: The number of neighbors used for computing the prediction\n",
    "        :return: Prediction made based on the k neighbors\n",
    "        \"\"\"\n",
    "        dist = np.linalg.norm(self.X_train - x, axis=1)\n",
    "        idx = np.argpartition(dist, k)[:k]\n",
    "        weights = 1 / dist[idx]**2\n",
    "        return np.sum(np.squeeze(self.Y_train[idx]) * np.squeeze(weights)) / np.sum(weights)\n",
    "        #return np.sum(np.squeeze(self.Y_train[idx])) / k\n",
    "\n",
    "    def test(self, X_test, Y_test, k):\n",
    "        \"\"\"\n",
    "        Tests the performance of the algorithm by means of the provided test set.\n",
    "        :param X_test: Test set\n",
    "        :param Y_test: Output values for the test set\n",
    "        :param k: The number of neighbors used for computing the prediction\n",
    "        :return: RMSE of the test set, predictions made on the test set\n",
    "        \"\"\"\n",
    "        X_pred = np.zeros(Y_test.shape)\n",
    "        for i in range(X_pred.shape[0]):\n",
    "            X_pred[i][0] = self.predict(X_test[i], k)\n",
    "        rmse = np.sqrt(np.mean(np.square(X_pred - Y_test)))\n",
    "        return rmse, X_pred\n",
    "\n",
    "    def get_best_k(self, X, Y, limit):\n",
    "        \"\"\"\n",
    "        Tries out values for k in the range from 1 to 'limit', returns the k that yields the lowest RMSE.\n",
    "        :param X: Cross validation set\n",
    "        :param Y: Output values for the cross validation set\n",
    "        :param limit: Range limit for k\n",
    "        :return: Optimal k for the given range\n",
    "        \"\"\"\n",
    "        best_k = -1\n",
    "        best_rmse = np.inf\n",
    "        for k in range(1, limit + 1):\n",
    "            rmse, _ = self.test(X, Y, k)\n",
    "            if rmse < best_rmse:\n",
    "                best_rmse = rmse\n",
    "                best_k = k\n",
    "        return best_k"
   ]
  }
 ],
 "metadata": {
  "kernelspec": {
   "display_name": "Python 3",
   "language": "python",
   "name": "python3"
  },
  "language_info": {
   "codemirror_mode": {
    "name": "ipython",
    "version": 3
   },
   "file_extension": ".py",
   "mimetype": "text/x-python",
   "name": "python",
   "nbconvert_exporter": "python",
   "pygments_lexer": "ipython3",
   "version": "3.7.3"
  }
 },
 "nbformat": 4,
 "nbformat_minor": 2
}
