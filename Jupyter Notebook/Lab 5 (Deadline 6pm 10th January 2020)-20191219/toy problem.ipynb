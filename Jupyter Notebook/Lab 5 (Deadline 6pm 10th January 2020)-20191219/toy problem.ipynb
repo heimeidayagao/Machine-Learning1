{
 "cells": [
  {
   "cell_type": "markdown",
   "metadata": {},
   "source": [
    "# generate data for toy problem"
   ]
  },
  {
   "cell_type": "code",
   "execution_count": 16,
   "metadata": {},
   "outputs": [],
   "source": [
    "import random\n",
    "a = 1\n",
    "b = 2\n",
    "c = 3\n",
    "X1 = []\n",
    "X2 = []\n",
    "X3 = []\n",
    "for i in range(100):\n",
    "    x1 = []\n",
    "    x2 = []\n",
    "    x3 = []\n",
    "    for i in range(7):\n",
    "\n",
    "        x1.append(random.uniform(-1,1))\n",
    "        x2.append(random.uniform(-1,1))\n",
    "        x3.append(random.uniform(-1,1))\n",
    "    X1.append(x1)\n",
    "    X2.append(x2)\n",
    "    X3.append(x3)\n",
    "\n",
    "Y = []\n",
    "for i in range(100):\n",
    "    for j in range(7):\n",
    "        y1 = X1[i][j] * a\n",
    "        y2 = X2[i][j] * b\n",
    "        y3 = X3[i][j] * c\n",
    "        y = y1 + y2 + y3\n",
    "    Y.append(y)\n",
    "\n",
    "import pandas as pd\n",
    "import numpy as np\n",
    "X1 = pd.DataFrame(X1)\n",
    "X2 = pd.DataFrame(X2)\n",
    "X3 = pd.DataFrame(X3)\n",
    "Y = pd.DataFrame(Y)\n",
    "result = pd.concat([X1, X2], axis=1)\n",
    "result = pd.concat([result,X3],axis = 1)\n",
    "result = pd.concat([result,Y],axis = 1)\n",
    "result = result.values\n",
    "result\n",
    "np.savetxt('toy problem.csv', result, delimiter = ',')"
   ]
  },
  {
   "cell_type": "markdown",
   "metadata": {},
   "source": [
    "# Nearest neighbour"
   ]
  },
  {
   "cell_type": "code",
   "execution_count": 19,
   "metadata": {},
   "outputs": [
    {
     "name": "stdout",
     "output_type": "stream",
     "text": [
      "Nearest neighbor:\n",
      "k:8\n",
      "RMSE: 1.6086403219302157.\n"
     ]
    }
   ],
   "source": [
    "import numpy as np\n",
    "np.set_printoptions(suppress=True)\n",
    "\n",
    "#import row data\n",
    "row_data = np.loadtxt('toy problem.csv',delimiter = ',')\n",
    "np.random.seed(1)\n",
    "np.random.shuffle(row_data)\n",
    "X = row_data[:,:21]\n",
    "Y = row_data[:,21:]\n",
    "\n",
    "# normalize_x\n",
    "X = (X - np.mean(X)) / np.std(X)\n",
    "\n",
    "#split data\n",
    "split_size = [0.6,0.2,0.2]\n",
    "index_train = int(X.shape[0] * split_size[0])\n",
    "index_cv = index_train + int(X.shape[0] * split_size[1])\n",
    "index_test = index_cv + int(X.shape[0] * split_size[2])\n",
    "X_train = X[:index_train, :]\n",
    "Y_train = Y[:index_train, :]\n",
    "X_test = X[index_cv:index_test, :]\n",
    "Y_test = Y[index_cv:index_test, :]\n",
    "\n",
    "best_k = -100\n",
    "best_rmse = 10000000000000000000000\n",
    "for k in range(1,10):\n",
    "    size1 = Y_test.shape\n",
    "    X_predicted = np.zeros(size1)\n",
    "    size2 = X_predicted.shape[0]\n",
    "    for i in range(size2):\n",
    "        distance = np.linalg.norm(X_train - X_test[i], axis=1)\n",
    "        index = np.argpartition(distance, k)[:k]\n",
    "        weights = 1 / distance[index]**2\n",
    "        X_predicted[i][0] = np.sum(np.squeeze(Y_train[index]) \\\n",
    "                                   * np.squeeze(weights))/ np.sum(weights)\n",
    "    rmse = np.sqrt(np.mean(np.square(X_predicted - Y_test)))\n",
    "    if rmse < best_rmse:\n",
    "        best_rmse = rmse\n",
    "        best_k = k \n",
    "\n",
    "print(\"Nearest neighbor:\")\n",
    "print(\"k:{}\".format(best_k))\n",
    "print(\"RMSE: {}.\".format(rmse))"
   ]
  },
  {
   "cell_type": "markdown",
   "metadata": {},
   "source": [
    "# Linear regression"
   ]
  },
  {
   "cell_type": "code",
   "execution_count": 20,
   "metadata": {},
   "outputs": [
    {
     "name": "stdout",
     "output_type": "stream",
     "text": [
      "Linear regression :\n",
      "RMSE: 3.704657195003952e-15.\n"
     ]
    }
   ],
   "source": [
    "n = X_train.shape[1]\n",
    "w = np.random.normal(0, 0.5, size=(n, 1))\n",
    "b = np.random.normal(0, 0.5)\n",
    "\n",
    "iters = 10000\n",
    "learning_rate = 0.1\n",
    "\n",
    "costed = 100000000000000000000\n",
    "new_learning_rate = learning_rate\n",
    "\n",
    "for i in range(iters):\n",
    "    prediction = np.dot(X_train, w) + b\n",
    "    cost = np.sum((prediction - Y_train)**2) / (2 * Y_train.shape[0])\n",
    "    m = prediction.shape[0]\n",
    "    grad_w = np.dot(X_train.T, (prediction - Y_train)) / m\n",
    "    grad_b = np.sum((prediction - Y_train)) / m\n",
    "    w = w - learning_rate * grad_w\n",
    "    b = b - learning_rate * grad_b      \n",
    "    if cost >= costed:\n",
    "        new_learning_rate = new_learning_rate * 0.5\n",
    "        continue\n",
    "        \n",
    "    costed = cost\n",
    "\n",
    "prediction = np.dot(X_test, w) + b\n",
    "rmse = np.sqrt(np.mean(np.square(prediction - Y_test)))    \n",
    "\n",
    "print(\"Linear regression :\")\n",
    "print(\"RMSE: {}.\".format(rmse))"
   ]
  },
  {
   "cell_type": "markdown",
   "metadata": {},
   "source": [
    "# Regression forest "
   ]
  },
  {
   "cell_type": "code",
   "execution_count": null,
   "metadata": {},
   "outputs": [],
   "source": []
  },
  {
   "cell_type": "markdown",
   "metadata": {},
   "source": [
    "# Gaussian process"
   ]
  },
  {
   "cell_type": "code",
   "execution_count": null,
   "metadata": {},
   "outputs": [],
   "source": []
  }
 ],
 "metadata": {
  "kernelspec": {
   "display_name": "Python 3",
   "language": "python",
   "name": "python3"
  },
  "language_info": {
   "codemirror_mode": {
    "name": "ipython",
    "version": 3
   },
   "file_extension": ".py",
   "mimetype": "text/x-python",
   "name": "python",
   "nbconvert_exporter": "python",
   "pygments_lexer": "ipython3",
   "version": "3.7.3"
  }
 },
 "nbformat": 4,
 "nbformat_minor": 2
}
