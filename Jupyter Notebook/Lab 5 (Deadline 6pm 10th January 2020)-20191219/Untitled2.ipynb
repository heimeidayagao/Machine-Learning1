{
 "cells": [
  {
   "cell_type": "markdown",
   "metadata": {},
   "source": [
    "# generate data for toy problem"
   ]
  },
  {
   "cell_type": "code",
   "execution_count": 72,
   "metadata": {},
   "outputs": [],
   "source": [
    "import random\n",
    "a = 1\n",
    "b = 2\n",
    "c = 3\n",
    "X1 = []\n",
    "X2 = []\n",
    "X3 = []\n",
    "for i in range(100):\n",
    "    x1 = []\n",
    "    x2 = []\n",
    "    x3 = []\n",
    "    for i in range(7):\n",
    "\n",
    "        x1.append(random.uniform(-1,1))\n",
    "        x2.append(random.uniform(-1,1))\n",
    "        x3.append(random.uniform(-1,1))\n",
    "    X1.append(x1)\n",
    "    X2.append(x2)\n",
    "    X3.append(x3)\n",
    "\n",
    "Y = []\n",
    "for i in range(100):\n",
    "    for j in range(7):\n",
    "        y1 = X1[i][j] * a\n",
    "        y2 = X2[i][j] * b\n",
    "        y3 = X3[i][j] * c\n",
    "        y = y1 + y2 + y3\n",
    "    Y.append(y)\n",
    "\n",
    "import pandas as pd\n",
    "import numpy as np\n",
    "X1 = pd.DataFrame(X1)\n",
    "X2 = pd.DataFrame(X2)\n",
    "X3 = pd.DataFrame(X3)\n",
    "Y = pd.DataFrame(Y)\n",
    "result = pd.concat([X1, X2], axis=1)\n",
    "result = pd.concat([result,X3],axis = 1)\n",
    "result = pd.concat([result,Y],axis = 1)\n",
    "result = result.values\n",
    "result\n",
    "np.savetxt('toy problem.csv', result, delimiter = ',')"
   ]
  },
  {
   "cell_type": "code",
   "execution_count": 52,
   "metadata": {},
   "outputs": [],
   "source": []
  },
  {
   "cell_type": "code",
   "execution_count": 70,
   "metadata": {},
   "outputs": [],
   "source": []
  }
 ],
 "metadata": {
  "kernelspec": {
   "display_name": "Python 3",
   "language": "python",
   "name": "python3"
  },
  "language_info": {
   "codemirror_mode": {
    "name": "ipython",
    "version": 3
   },
   "file_extension": ".py",
   "mimetype": "text/x-python",
   "name": "python",
   "nbconvert_exporter": "python",
   "pygments_lexer": "ipython3",
   "version": "3.7.3"
  }
 },
 "nbformat": 4,
 "nbformat_minor": 2
}
